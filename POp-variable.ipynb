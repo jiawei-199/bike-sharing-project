{
 "cells": [
  {
   "cell_type": "code",
   "execution_count": 1,
   "id": "8bbe2b60",
   "metadata": {
    "ExecuteTime": {
     "end_time": "2023-03-20T18:05:50.118480Z",
     "start_time": "2023-03-20T18:05:48.618928Z"
    }
   },
   "outputs": [],
   "source": [
    "import numpy as np\n",
    "import pandas as pd\n",
    "import matplotlib.pyplot as plt\n",
    "from shapely.geometry import Polygon\n",
    "import geopandas as gpd\n",
    "import os\n",
    "import fiona\n",
    "import rasterio\n",
    "import rasterio.mask\n",
    "import imageio\n",
    "import itertools\n",
    "import shapely\n",
    "from shapely.wkt import loads"
   ]
  },
  {
   "cell_type": "markdown",
   "id": "0be224bd",
   "metadata": {},
   "source": [
    "# Pop"
   ]
  },
  {
   "cell_type": "code",
   "execution_count": 28,
   "id": "8e050050",
   "metadata": {
    "ExecuteTime": {
     "end_time": "2023-03-20T18:29:58.545142Z",
     "start_time": "2023-03-20T18:29:58.506240Z"
    },
    "scrolled": true
   },
   "outputs": [],
   "source": [
    "pop = gpd.read_file(r\"D:\\bike\\code\\metro\\age_buffer\\pop1500.shp\", encoding='utf-8')\n",
    "pop = pop.rename(columns = {'SAMPLE_1':'Pop'})"
   ]
  },
  {
   "cell_type": "code",
   "execution_count": 29,
   "id": "ed92532e",
   "metadata": {
    "ExecuteTime": {
     "end_time": "2023-03-20T18:29:58.717240Z",
     "start_time": "2023-03-20T18:29:58.694296Z"
    }
   },
   "outputs": [
    {
     "data": {
      "text/html": [
       "<div>\n",
       "<style scoped>\n",
       "    .dataframe tbody tr th:only-of-type {\n",
       "        vertical-align: middle;\n",
       "    }\n",
       "\n",
       "    .dataframe tbody tr th {\n",
       "        vertical-align: top;\n",
       "    }\n",
       "\n",
       "    .dataframe thead th {\n",
       "        text-align: right;\n",
       "    }\n",
       "</style>\n",
       "<table border=\"1\" class=\"dataframe\">\n",
       "  <thead>\n",
       "    <tr style=\"text-align: right;\">\n",
       "      <th></th>\n",
       "      <th>stationnam</th>\n",
       "      <th>Pop</th>\n",
       "      <th>geometry</th>\n",
       "    </tr>\n",
       "  </thead>\n",
       "  <tbody>\n",
       "    <tr>\n",
       "      <th>0</th>\n",
       "      <td>罗湖</td>\n",
       "      <td>NaN</td>\n",
       "      <td>POINT (820809.311 2495070.993)</td>\n",
       "    </tr>\n",
       "    <tr>\n",
       "      <th>1</th>\n",
       "      <td>人民南</td>\n",
       "      <td>NaN</td>\n",
       "      <td>POINT (820748.669 2495450.082)</td>\n",
       "    </tr>\n",
       "    <tr>\n",
       "      <th>2</th>\n",
       "      <td>国贸</td>\n",
       "      <td>258.015625</td>\n",
       "      <td>POINT (820816.745 2495913.339)</td>\n",
       "    </tr>\n",
       "    <tr>\n",
       "      <th>3</th>\n",
       "      <td>老街</td>\n",
       "      <td>328.348114</td>\n",
       "      <td>POINT (820603.435 2496413.511)</td>\n",
       "    </tr>\n",
       "    <tr>\n",
       "      <th>4</th>\n",
       "      <td>大剧院</td>\n",
       "      <td>324.088257</td>\n",
       "      <td>POINT (819669.497 2496124.436)</td>\n",
       "    </tr>\n",
       "    <tr>\n",
       "      <th>...</th>\n",
       "      <td>...</td>\n",
       "      <td>...</td>\n",
       "      <td>...</td>\n",
       "    </tr>\n",
       "    <tr>\n",
       "      <th>229</th>\n",
       "      <td>福永</td>\n",
       "      <td>161.854813</td>\n",
       "      <td>POINT (788339.380 2510107.183)</td>\n",
       "    </tr>\n",
       "    <tr>\n",
       "      <th>230</th>\n",
       "      <td>机场</td>\n",
       "      <td>NaN</td>\n",
       "      <td>POINT (789223.295 2504633.877)</td>\n",
       "    </tr>\n",
       "    <tr>\n",
       "      <th>231</th>\n",
       "      <td>碧海湾</td>\n",
       "      <td>214.016708</td>\n",
       "      <td>POINT (793691.303 2499293.417)</td>\n",
       "    </tr>\n",
       "    <tr>\n",
       "      <th>232</th>\n",
       "      <td>宝安</td>\n",
       "      <td>205.913666</td>\n",
       "      <td>POINT (796235.679 2497072.139)</td>\n",
       "    </tr>\n",
       "    <tr>\n",
       "      <th>233</th>\n",
       "      <td>南山</td>\n",
       "      <td>309.610809</td>\n",
       "      <td>POINT (800735.962 2493773.208)</td>\n",
       "    </tr>\n",
       "  </tbody>\n",
       "</table>\n",
       "<p>234 rows × 3 columns</p>\n",
       "</div>"
      ],
      "text/plain": [
       "    stationnam         Pop                        geometry\n",
       "0           罗湖         NaN  POINT (820809.311 2495070.993)\n",
       "1          人民南         NaN  POINT (820748.669 2495450.082)\n",
       "2           国贸  258.015625  POINT (820816.745 2495913.339)\n",
       "3           老街  328.348114  POINT (820603.435 2496413.511)\n",
       "4          大剧院  324.088257  POINT (819669.497 2496124.436)\n",
       "..         ...         ...                             ...\n",
       "229         福永  161.854813  POINT (788339.380 2510107.183)\n",
       "230         机场         NaN  POINT (789223.295 2504633.877)\n",
       "231        碧海湾  214.016708  POINT (793691.303 2499293.417)\n",
       "232         宝安  205.913666  POINT (796235.679 2497072.139)\n",
       "233         南山  309.610809  POINT (800735.962 2493773.208)\n",
       "\n",
       "[234 rows x 3 columns]"
      ]
     },
     "execution_count": 29,
     "metadata": {},
     "output_type": "execute_result"
    }
   ],
   "source": [
    "pop"
   ]
  },
  {
   "cell_type": "code",
   "execution_count": 30,
   "id": "9525eeb4",
   "metadata": {
    "ExecuteTime": {
     "end_time": "2023-03-20T18:29:58.888173Z",
     "start_time": "2023-03-20T18:29:58.879197Z"
    }
   },
   "outputs": [],
   "source": [
    "pop = pop.fillna(0)"
   ]
  },
  {
   "cell_type": "code",
   "execution_count": 31,
   "id": "f9814a5c",
   "metadata": {
    "ExecuteTime": {
     "end_time": "2023-03-20T18:29:59.105383Z",
     "start_time": "2023-03-20T18:29:59.050157Z"
    }
   },
   "outputs": [],
   "source": [
    "rail_station_count =pd.read_csv(r'D:\\bike\\code\\metro\\Preprocessing-bike data\\metro_area.csv').drop(columns = 'Unnamed: 0')\n",
    "\n",
    "geometry = rail_station_count['geometry'].map(shapely.wkt.loads)\n",
    "rail_station_count = rail_station_count.drop('geometry', axis=1)\n",
    "rail_station_count = gpd.GeoDataFrame(rail_station_count, geometry=geometry)\n",
    "rail_station_count = rail_station_count.set_crs(\"EPSG:4326\")\n",
    "\n",
    "# buffer = 300\n",
    "rail_station = rail_station_count.to_crs(\"EPSG:32649\")\n",
    "rail_station['buffer'] = rail_station.buffer(1500)\n",
    "\n",
    "rail_station_buffer = gpd.GeoDataFrame(rail_station,geometry = 'buffer')\n",
    "rail_station_buffer = rail_station_buffer.drop(columns = 'index_right')"
   ]
  },
  {
   "cell_type": "code",
   "execution_count": 32,
   "id": "09afc2c1",
   "metadata": {
    "ExecuteTime": {
     "end_time": "2023-03-20T18:29:59.228773Z",
     "start_time": "2023-03-20T18:29:59.214814Z"
    }
   },
   "outputs": [],
   "source": [
    "rail_station_buffer = rail_station_buffer.merge(pop,on = 'stationnam')\n"
   ]
  },
  {
   "cell_type": "code",
   "execution_count": 33,
   "id": "7ba4dc1c",
   "metadata": {
    "ExecuteTime": {
     "end_time": "2023-03-20T18:29:59.677198Z",
     "start_time": "2023-03-20T18:29:59.669257Z"
    }
   },
   "outputs": [],
   "source": [
    "rail_station_buffer['area'] = rail_station_buffer.area"
   ]
  },
  {
   "cell_type": "code",
   "execution_count": 34,
   "id": "a15f3c86",
   "metadata": {
    "ExecuteTime": {
     "end_time": "2023-03-20T18:30:00.361697Z",
     "start_time": "2023-03-20T18:30:00.325930Z"
    },
    "scrolled": true
   },
   "outputs": [
    {
     "data": {
      "text/html": [
       "<div>\n",
       "<style scoped>\n",
       "    .dataframe tbody tr th:only-of-type {\n",
       "        vertical-align: middle;\n",
       "    }\n",
       "\n",
       "    .dataframe tbody tr th {\n",
       "        vertical-align: top;\n",
       "    }\n",
       "\n",
       "    .dataframe thead th {\n",
       "        text-align: right;\n",
       "    }\n",
       "</style>\n",
       "<table border=\"1\" class=\"dataframe\">\n",
       "  <thead>\n",
       "    <tr style=\"text-align: right;\">\n",
       "      <th></th>\n",
       "      <th>linename</th>\n",
       "      <th>stationnam</th>\n",
       "      <th>sl</th>\n",
       "      <th>poiid</th>\n",
       "      <th>lg</th>\n",
       "      <th>sp</th>\n",
       "      <th>lon</th>\n",
       "      <th>lat</th>\n",
       "      <th>hex_id</th>\n",
       "      <th>cluster_la</th>\n",
       "      <th>functional</th>\n",
       "      <th>function_1</th>\n",
       "      <th>geometry_x</th>\n",
       "      <th>buffer</th>\n",
       "      <th>Pop</th>\n",
       "      <th>geometry_y</th>\n",
       "      <th>area</th>\n",
       "    </tr>\n",
       "  </thead>\n",
       "  <tbody>\n",
       "    <tr>\n",
       "      <th>0</th>\n",
       "      <td>地铁1号线(罗宝线)</td>\n",
       "      <td>罗湖</td>\n",
       "      <td>114.118666,22.532083</td>\n",
       "      <td>BV10249978</td>\n",
       "      <td>2</td>\n",
       "      <td>luo hu</td>\n",
       "      <td>114.118666</td>\n",
       "      <td>22.532083</td>\n",
       "      <td>30444</td>\n",
       "      <td>0</td>\n",
       "      <td>Rural</td>\n",
       "      <td>4</td>\n",
       "      <td>POINT (820809.311 2495070.993)</td>\n",
       "      <td>POLYGON ((822309.311 2495070.993, 822302.088 2...</td>\n",
       "      <td>0.000000</td>\n",
       "      <td>POINT (820809.311 2495070.993)</td>\n",
       "      <td>7.057234e+06</td>\n",
       "    </tr>\n",
       "    <tr>\n",
       "      <th>1</th>\n",
       "      <td>地铁9号线</td>\n",
       "      <td>人民南</td>\n",
       "      <td>114.118154,22.535514</td>\n",
       "      <td>BV10447615</td>\n",
       "      <td>0</td>\n",
       "      <td>ren min nan</td>\n",
       "      <td>114.118154</td>\n",
       "      <td>22.535514</td>\n",
       "      <td>30444</td>\n",
       "      <td>0</td>\n",
       "      <td>Rural</td>\n",
       "      <td>4</td>\n",
       "      <td>POINT (820748.669 2495450.082)</td>\n",
       "      <td>POLYGON ((822248.669 2495450.082, 822241.446 2...</td>\n",
       "      <td>0.000000</td>\n",
       "      <td>POINT (820748.669 2495450.082)</td>\n",
       "      <td>7.057234e+06</td>\n",
       "    </tr>\n",
       "    <tr>\n",
       "      <th>2</th>\n",
       "      <td>地铁1号线(罗宝线)</td>\n",
       "      <td>国贸</td>\n",
       "      <td>114.118909,22.539680</td>\n",
       "      <td>BV10243546</td>\n",
       "      <td>2</td>\n",
       "      <td>guo mao</td>\n",
       "      <td>114.118909</td>\n",
       "      <td>22.539680</td>\n",
       "      <td>30445</td>\n",
       "      <td>1</td>\n",
       "      <td>Center</td>\n",
       "      <td>1</td>\n",
       "      <td>POINT (820816.745 2495913.339)</td>\n",
       "      <td>POLYGON ((822316.745 2495913.339, 822309.522 2...</td>\n",
       "      <td>258.015625</td>\n",
       "      <td>POINT (820816.745 2495913.339)</td>\n",
       "      <td>7.057234e+06</td>\n",
       "    </tr>\n",
       "    <tr>\n",
       "      <th>3</th>\n",
       "      <td>地铁1号线(罗宝线)</td>\n",
       "      <td>老街</td>\n",
       "      <td>114.116939,22.544232</td>\n",
       "      <td>BV10249964</td>\n",
       "      <td>2</td>\n",
       "      <td>lao jie</td>\n",
       "      <td>114.116939</td>\n",
       "      <td>22.544232</td>\n",
       "      <td>30441</td>\n",
       "      <td>1</td>\n",
       "      <td>Center</td>\n",
       "      <td>1</td>\n",
       "      <td>POINT (820603.435 2496413.511)</td>\n",
       "      <td>POLYGON ((822103.435 2496413.511, 822096.212 2...</td>\n",
       "      <td>328.348114</td>\n",
       "      <td>POINT (820603.435 2496413.511)</td>\n",
       "      <td>7.057234e+06</td>\n",
       "    </tr>\n",
       "    <tr>\n",
       "      <th>4</th>\n",
       "      <td>地铁1号线(罗宝线)</td>\n",
       "      <td>大剧院</td>\n",
       "      <td>114.107811,22.541800</td>\n",
       "      <td>BV10246013</td>\n",
       "      <td>3</td>\n",
       "      <td>DaJuYuan</td>\n",
       "      <td>114.107811</td>\n",
       "      <td>22.541800</td>\n",
       "      <td>30440</td>\n",
       "      <td>1</td>\n",
       "      <td>Center</td>\n",
       "      <td>1</td>\n",
       "      <td>POINT (819669.497 2496124.436)</td>\n",
       "      <td>POLYGON ((821169.497 2496124.436, 821162.274 2...</td>\n",
       "      <td>324.088257</td>\n",
       "      <td>POINT (819669.497 2496124.436)</td>\n",
       "      <td>7.057234e+06</td>\n",
       "    </tr>\n",
       "    <tr>\n",
       "      <th>...</th>\n",
       "      <td>...</td>\n",
       "      <td>...</td>\n",
       "      <td>...</td>\n",
       "      <td>...</td>\n",
       "      <td>...</td>\n",
       "      <td>...</td>\n",
       "      <td>...</td>\n",
       "      <td>...</td>\n",
       "      <td>...</td>\n",
       "      <td>...</td>\n",
       "      <td>...</td>\n",
       "      <td>...</td>\n",
       "      <td>...</td>\n",
       "      <td>...</td>\n",
       "      <td>...</td>\n",
       "      <td>...</td>\n",
       "      <td>...</td>\n",
       "    </tr>\n",
       "    <tr>\n",
       "      <th>229</th>\n",
       "      <td>地铁11号线</td>\n",
       "      <td>福永</td>\n",
       "      <td>113.806076,22.673562</td>\n",
       "      <td>BV10249452</td>\n",
       "      <td>0</td>\n",
       "      <td>FuYong</td>\n",
       "      <td>113.806076</td>\n",
       "      <td>22.673562</td>\n",
       "      <td>18097</td>\n",
       "      <td>2</td>\n",
       "      <td>Sub-center</td>\n",
       "      <td>2</td>\n",
       "      <td>POINT (788339.380 2510107.183)</td>\n",
       "      <td>POLYGON ((789839.380 2510107.183, 789832.157 2...</td>\n",
       "      <td>161.854813</td>\n",
       "      <td>POINT (788339.380 2510107.183)</td>\n",
       "      <td>7.057234e+06</td>\n",
       "    </tr>\n",
       "    <tr>\n",
       "      <th>230</th>\n",
       "      <td>地铁11号线</td>\n",
       "      <td>机场</td>\n",
       "      <td>113.813663,22.624026</td>\n",
       "      <td>BV10527864</td>\n",
       "      <td>6</td>\n",
       "      <td>ji chang</td>\n",
       "      <td>113.813663</td>\n",
       "      <td>22.624026</td>\n",
       "      <td>10976</td>\n",
       "      <td>3</td>\n",
       "      <td>Outskirt</td>\n",
       "      <td>3</td>\n",
       "      <td>POINT (789223.295 2504633.877)</td>\n",
       "      <td>POLYGON ((790723.295 2504633.877, 790716.072 2...</td>\n",
       "      <td>0.000000</td>\n",
       "      <td>POINT (789223.295 2504633.877)</td>\n",
       "      <td>7.057234e+06</td>\n",
       "    </tr>\n",
       "    <tr>\n",
       "      <th>231</th>\n",
       "      <td>地铁11号线</td>\n",
       "      <td>碧海湾</td>\n",
       "      <td>113.856093,22.575073</td>\n",
       "      <td>BV10527859</td>\n",
       "      <td>6</td>\n",
       "      <td>bi hai wan</td>\n",
       "      <td>113.856093</td>\n",
       "      <td>22.575073</td>\n",
       "      <td>24808</td>\n",
       "      <td>1</td>\n",
       "      <td>Center</td>\n",
       "      <td>1</td>\n",
       "      <td>POINT (793691.303 2499293.417)</td>\n",
       "      <td>POLYGON ((795191.303 2499293.417, 795184.080 2...</td>\n",
       "      <td>214.016708</td>\n",
       "      <td>POINT (793691.303 2499293.417)</td>\n",
       "      <td>7.057234e+06</td>\n",
       "    </tr>\n",
       "    <tr>\n",
       "      <th>232</th>\n",
       "      <td>地铁11号线</td>\n",
       "      <td>宝安</td>\n",
       "      <td>113.880396,22.554590</td>\n",
       "      <td>BV10527865</td>\n",
       "      <td>6</td>\n",
       "      <td>bao an</td>\n",
       "      <td>113.880396</td>\n",
       "      <td>22.554590</td>\n",
       "      <td>33438</td>\n",
       "      <td>1</td>\n",
       "      <td>Center</td>\n",
       "      <td>1</td>\n",
       "      <td>POINT (796235.679 2497072.139)</td>\n",
       "      <td>POLYGON ((797735.679 2497072.139, 797728.456 2...</td>\n",
       "      <td>205.913666</td>\n",
       "      <td>POINT (796235.679 2497072.139)</td>\n",
       "      <td>7.057234e+06</td>\n",
       "    </tr>\n",
       "    <tr>\n",
       "      <th>233</th>\n",
       "      <td>地铁11号线</td>\n",
       "      <td>南山</td>\n",
       "      <td>113.923483,22.524037</td>\n",
       "      <td>BV10244676</td>\n",
       "      <td>2</td>\n",
       "      <td>NanShan</td>\n",
       "      <td>113.923483</td>\n",
       "      <td>22.524037</td>\n",
       "      <td>18182</td>\n",
       "      <td>1</td>\n",
       "      <td>Center</td>\n",
       "      <td>1</td>\n",
       "      <td>POINT (800735.962 2493773.208)</td>\n",
       "      <td>POLYGON ((802235.962 2493773.208, 802228.739 2...</td>\n",
       "      <td>309.610809</td>\n",
       "      <td>POINT (800735.962 2493773.208)</td>\n",
       "      <td>7.057234e+06</td>\n",
       "    </tr>\n",
       "  </tbody>\n",
       "</table>\n",
       "<p>234 rows × 17 columns</p>\n",
       "</div>"
      ],
      "text/plain": [
       "       linename stationnam                    sl       poiid  lg           sp  \\\n",
       "0    地铁1号线(罗宝线)         罗湖  114.118666,22.532083  BV10249978   2       luo hu   \n",
       "1         地铁9号线        人民南  114.118154,22.535514  BV10447615   0  ren min nan   \n",
       "2    地铁1号线(罗宝线)         国贸  114.118909,22.539680  BV10243546   2      guo mao   \n",
       "3    地铁1号线(罗宝线)         老街  114.116939,22.544232  BV10249964   2      lao jie   \n",
       "4    地铁1号线(罗宝线)        大剧院  114.107811,22.541800  BV10246013   3     DaJuYuan   \n",
       "..          ...        ...                   ...         ...  ..          ...   \n",
       "229      地铁11号线         福永  113.806076,22.673562  BV10249452   0       FuYong   \n",
       "230      地铁11号线         机场  113.813663,22.624026  BV10527864   6     ji chang   \n",
       "231      地铁11号线        碧海湾  113.856093,22.575073  BV10527859   6   bi hai wan   \n",
       "232      地铁11号线         宝安  113.880396,22.554590  BV10527865   6       bao an   \n",
       "233      地铁11号线         南山  113.923483,22.524037  BV10244676   2      NanShan   \n",
       "\n",
       "            lon        lat  hex_id  cluster_la  functional  function_1  \\\n",
       "0    114.118666  22.532083   30444           0       Rural           4   \n",
       "1    114.118154  22.535514   30444           0       Rural           4   \n",
       "2    114.118909  22.539680   30445           1      Center           1   \n",
       "3    114.116939  22.544232   30441           1      Center           1   \n",
       "4    114.107811  22.541800   30440           1      Center           1   \n",
       "..          ...        ...     ...         ...         ...         ...   \n",
       "229  113.806076  22.673562   18097           2  Sub-center           2   \n",
       "230  113.813663  22.624026   10976           3    Outskirt           3   \n",
       "231  113.856093  22.575073   24808           1      Center           1   \n",
       "232  113.880396  22.554590   33438           1      Center           1   \n",
       "233  113.923483  22.524037   18182           1      Center           1   \n",
       "\n",
       "                         geometry_x  \\\n",
       "0    POINT (820809.311 2495070.993)   \n",
       "1    POINT (820748.669 2495450.082)   \n",
       "2    POINT (820816.745 2495913.339)   \n",
       "3    POINT (820603.435 2496413.511)   \n",
       "4    POINT (819669.497 2496124.436)   \n",
       "..                              ...   \n",
       "229  POINT (788339.380 2510107.183)   \n",
       "230  POINT (789223.295 2504633.877)   \n",
       "231  POINT (793691.303 2499293.417)   \n",
       "232  POINT (796235.679 2497072.139)   \n",
       "233  POINT (800735.962 2493773.208)   \n",
       "\n",
       "                                                buffer         Pop  \\\n",
       "0    POLYGON ((822309.311 2495070.993, 822302.088 2...    0.000000   \n",
       "1    POLYGON ((822248.669 2495450.082, 822241.446 2...    0.000000   \n",
       "2    POLYGON ((822316.745 2495913.339, 822309.522 2...  258.015625   \n",
       "3    POLYGON ((822103.435 2496413.511, 822096.212 2...  328.348114   \n",
       "4    POLYGON ((821169.497 2496124.436, 821162.274 2...  324.088257   \n",
       "..                                                 ...         ...   \n",
       "229  POLYGON ((789839.380 2510107.183, 789832.157 2...  161.854813   \n",
       "230  POLYGON ((790723.295 2504633.877, 790716.072 2...    0.000000   \n",
       "231  POLYGON ((795191.303 2499293.417, 795184.080 2...  214.016708   \n",
       "232  POLYGON ((797735.679 2497072.139, 797728.456 2...  205.913666   \n",
       "233  POLYGON ((802235.962 2493773.208, 802228.739 2...  309.610809   \n",
       "\n",
       "                         geometry_y          area  \n",
       "0    POINT (820809.311 2495070.993)  7.057234e+06  \n",
       "1    POINT (820748.669 2495450.082)  7.057234e+06  \n",
       "2    POINT (820816.745 2495913.339)  7.057234e+06  \n",
       "3    POINT (820603.435 2496413.511)  7.057234e+06  \n",
       "4    POINT (819669.497 2496124.436)  7.057234e+06  \n",
       "..                              ...           ...  \n",
       "229  POINT (788339.380 2510107.183)  7.057234e+06  \n",
       "230  POINT (789223.295 2504633.877)  7.057234e+06  \n",
       "231  POINT (793691.303 2499293.417)  7.057234e+06  \n",
       "232  POINT (796235.679 2497072.139)  7.057234e+06  \n",
       "233  POINT (800735.962 2493773.208)  7.057234e+06  \n",
       "\n",
       "[234 rows x 17 columns]"
      ]
     },
     "execution_count": 34,
     "metadata": {},
     "output_type": "execute_result"
    }
   ],
   "source": [
    "rail_station_buffer"
   ]
  },
  {
   "cell_type": "code",
   "execution_count": 35,
   "id": "4ed6f828",
   "metadata": {
    "ExecuteTime": {
     "end_time": "2023-03-20T18:30:00.718110Z",
     "start_time": "2023-03-20T18:30:00.702120Z"
    }
   },
   "outputs": [],
   "source": [
    "rail_station_buffer['pop_density'] = rail_station_buffer['Pop']/(rail_station_buffer['area'])*1000000*100/1000"
   ]
  },
  {
   "cell_type": "code",
   "execution_count": 36,
   "id": "83eae6f2",
   "metadata": {
    "ExecuteTime": {
     "end_time": "2023-03-20T18:30:01.355260Z",
     "start_time": "2023-03-20T18:30:01.349292Z"
    }
   },
   "outputs": [],
   "source": [
    "Pop = rail_station_buffer[['stationnam','Pop','pop_density','area']]"
   ]
  },
  {
   "cell_type": "code",
   "execution_count": 37,
   "id": "cfa1ca71",
   "metadata": {
    "ExecuteTime": {
     "end_time": "2023-03-20T18:30:01.865131Z",
     "start_time": "2023-03-20T18:30:01.842192Z"
    }
   },
   "outputs": [
    {
     "data": {
      "text/html": [
       "<div>\n",
       "<style scoped>\n",
       "    .dataframe tbody tr th:only-of-type {\n",
       "        vertical-align: middle;\n",
       "    }\n",
       "\n",
       "    .dataframe tbody tr th {\n",
       "        vertical-align: top;\n",
       "    }\n",
       "\n",
       "    .dataframe thead th {\n",
       "        text-align: right;\n",
       "    }\n",
       "</style>\n",
       "<table border=\"1\" class=\"dataframe\">\n",
       "  <thead>\n",
       "    <tr style=\"text-align: right;\">\n",
       "      <th></th>\n",
       "      <th>Pop</th>\n",
       "      <th>pop_density</th>\n",
       "      <th>area</th>\n",
       "    </tr>\n",
       "  </thead>\n",
       "  <tbody>\n",
       "    <tr>\n",
       "      <th>count</th>\n",
       "      <td>234.000000</td>\n",
       "      <td>234.000000</td>\n",
       "      <td>2.340000e+02</td>\n",
       "    </tr>\n",
       "    <tr>\n",
       "      <th>mean</th>\n",
       "      <td>160.896257</td>\n",
       "      <td>2.279877</td>\n",
       "      <td>7.057234e+06</td>\n",
       "    </tr>\n",
       "    <tr>\n",
       "      <th>std</th>\n",
       "      <td>103.244559</td>\n",
       "      <td>1.462961</td>\n",
       "      <td>2.426629e-08</td>\n",
       "    </tr>\n",
       "    <tr>\n",
       "      <th>min</th>\n",
       "      <td>0.000000</td>\n",
       "      <td>0.000000</td>\n",
       "      <td>7.057234e+06</td>\n",
       "    </tr>\n",
       "    <tr>\n",
       "      <th>25%</th>\n",
       "      <td>88.922112</td>\n",
       "      <td>1.260014</td>\n",
       "      <td>7.057234e+06</td>\n",
       "    </tr>\n",
       "    <tr>\n",
       "      <th>50%</th>\n",
       "      <td>160.876770</td>\n",
       "      <td>2.279601</td>\n",
       "      <td>7.057234e+06</td>\n",
       "    </tr>\n",
       "    <tr>\n",
       "      <th>75%</th>\n",
       "      <td>244.646393</td>\n",
       "      <td>3.466604</td>\n",
       "      <td>7.057234e+06</td>\n",
       "    </tr>\n",
       "    <tr>\n",
       "      <th>max</th>\n",
       "      <td>331.161804</td>\n",
       "      <td>4.692516</td>\n",
       "      <td>7.057234e+06</td>\n",
       "    </tr>\n",
       "  </tbody>\n",
       "</table>\n",
       "</div>"
      ],
      "text/plain": [
       "              Pop  pop_density          area\n",
       "count  234.000000   234.000000  2.340000e+02\n",
       "mean   160.896257     2.279877  7.057234e+06\n",
       "std    103.244559     1.462961  2.426629e-08\n",
       "min      0.000000     0.000000  7.057234e+06\n",
       "25%     88.922112     1.260014  7.057234e+06\n",
       "50%    160.876770     2.279601  7.057234e+06\n",
       "75%    244.646393     3.466604  7.057234e+06\n",
       "max    331.161804     4.692516  7.057234e+06"
      ]
     },
     "execution_count": 37,
     "metadata": {},
     "output_type": "execute_result"
    }
   ],
   "source": [
    "Pop.describe()"
   ]
  },
  {
   "cell_type": "code",
   "execution_count": 38,
   "id": "1ef36d89",
   "metadata": {
    "ExecuteTime": {
     "end_time": "2023-03-20T18:30:02.345570Z",
     "start_time": "2023-03-20T18:30:02.326227Z"
    }
   },
   "outputs": [],
   "source": [
    "Pop.to_csv(r\"D:\\bike\\code\\metro\\Preprocessing-bike data\\code\\day_buffer\\variable\\Pop_density_variables_1500.csv\",encoding = 'utf-8-sig')"
   ]
  },
  {
   "cell_type": "markdown",
   "id": "1757724b",
   "metadata": {},
   "source": [
    "# Age"
   ]
  },
  {
   "cell_type": "code",
   "execution_count": null,
   "id": "78eb0b91",
   "metadata": {
    "ExecuteTime": {
     "end_time": "2023-03-08T20:10:13.122696Z",
     "start_time": "2023-03-08T20:10:11.914Z"
    },
    "scrolled": true
   },
   "outputs": [],
   "source": [
    "hex_area = gpd.read_file(r\"D:\\bike\\code\\metro\\Preprocessing-bike data\\hex_shp\\Differ_Area.shp\")\n",
    "hex_area"
   ]
  },
  {
   "cell_type": "code",
   "execution_count": null,
   "id": "406e6d1a",
   "metadata": {
    "ExecuteTime": {
     "end_time": "2023-03-08T20:10:13.123692Z",
     "start_time": "2023-03-08T20:10:11.914Z"
    },
    "scrolled": true
   },
   "outputs": [],
   "source": [
    "hex_area = hex_area.set_crs('epsg:4326')\n",
    "hex_area_copy = hex_area.to_crs('epsg:32649')\n",
    " # hex_area_copy.to_file(r'D:\\bike\\code\\metro\\Preprocessing-bike data\\hex_shp\\Differ_Area_copy.shp')"
   ]
  },
  {
   "cell_type": "code",
   "execution_count": null,
   "id": "aa12abf5",
   "metadata": {
    "ExecuteTime": {
     "end_time": "2023-03-08T20:10:13.124690Z",
     "start_time": "2023-03-08T20:10:11.915Z"
    }
   },
   "outputs": [],
   "source": [
    "hex_area_copy['area']= hex_area_copy.area"
   ]
  },
  {
   "cell_type": "code",
   "execution_count": null,
   "id": "ee13725b",
   "metadata": {
    "ExecuteTime": {
     "end_time": "2023-03-08T20:10:13.124690Z",
     "start_time": "2023-03-08T20:10:11.916Z"
    },
    "scrolled": true
   },
   "outputs": [],
   "source": [
    "age = gpd.read_file(r\"D:\\bike\\code\\metro\\age\\age\\chn_f_0_2020.shp\")\n",
    "age = age.fillna(0)"
   ]
  },
  {
   "cell_type": "code",
   "execution_count": null,
   "id": "4085a5c7",
   "metadata": {
    "ExecuteTime": {
     "end_time": "2023-03-08T20:10:13.125687Z",
     "start_time": "2023-03-08T20:10:11.917Z"
    }
   },
   "outputs": [],
   "source": [
    "age = age.rename(columns = {'SAMPLE_1':'chn_f_0_2020'})"
   ]
  },
  {
   "cell_type": "code",
   "execution_count": null,
   "id": "395bef06",
   "metadata": {
    "ExecuteTime": {
     "end_time": "2023-03-08T20:10:13.126684Z",
     "start_time": "2023-03-08T20:10:11.919Z"
    }
   },
   "outputs": [],
   "source": [
    "age.head()"
   ]
  },
  {
   "cell_type": "code",
   "execution_count": null,
   "id": "28be8eae",
   "metadata": {
    "ExecuteTime": {
     "end_time": "2023-03-08T20:10:13.126684Z",
     "start_time": "2023-03-08T20:10:11.920Z"
    }
   },
   "outputs": [],
   "source": [
    "age_copy = age[['hex_id','chn_f_0_2020']]\n",
    "hex_area_copy = hex_area_copy.merge(age_copy,on = 'hex_id')\n"
   ]
  },
  {
   "cell_type": "code",
   "execution_count": null,
   "id": "2bed961d",
   "metadata": {
    "ExecuteTime": {
     "end_time": "2023-03-08T20:10:13.127682Z",
     "start_time": "2023-03-08T20:10:11.921Z"
    },
    "scrolled": true
   },
   "outputs": [],
   "source": [
    "hex_area_copy"
   ]
  },
  {
   "cell_type": "code",
   "execution_count": null,
   "id": "0def56be",
   "metadata": {
    "ExecuteTime": {
     "end_time": "2023-03-08T20:10:13.128679Z",
     "start_time": "2023-03-08T20:10:11.921Z"
    },
    "scrolled": true
   },
   "outputs": [],
   "source": [
    "hex_area_copy['chn_f_0_2020'].sum() #深圳人口大概9.8万新生儿 #单位为100人"
   ]
  },
  {
   "cell_type": "code",
   "execution_count": null,
   "id": "15db7f00",
   "metadata": {
    "ExecuteTime": {
     "end_time": "2023-03-08T20:10:13.129678Z",
     "start_time": "2023-03-08T20:10:11.922Z"
    }
   },
   "outputs": [],
   "source": [
    "hex_area_copy['chn_f_0_2020'] = hex_area_copy['chn_f_0_2020']*100"
   ]
  },
  {
   "cell_type": "code",
   "execution_count": null,
   "id": "0586c5a1",
   "metadata": {
    "ExecuteTime": {
     "end_time": "2023-03-08T20:10:13.130674Z",
     "start_time": "2023-03-08T20:10:11.923Z"
    }
   },
   "outputs": [],
   "source": [
    "hex_area_copy.describe()"
   ]
  },
  {
   "cell_type": "code",
   "execution_count": null,
   "id": "6799a7ea",
   "metadata": {
    "ExecuteTime": {
     "end_time": "2023-03-08T20:10:13.131672Z",
     "start_time": "2023-03-08T20:10:11.925Z"
    },
    "scrolled": true
   },
   "outputs": [],
   "source": [
    "age = gpd.GeoDataFrame(hex_area_copy,geometry ='geometry')\n",
    "age = age.set_crs('epsg:32649')\n",
    "age = age.to_crs('epsg:4326')\n",
    "# age.to_file(r\"D:\\bike\\code\\metro\\Preprocessing-bike data\\hex_shp\\age.shp\")"
   ]
  },
  {
   "cell_type": "code",
   "execution_count": null,
   "id": "42057bb3",
   "metadata": {
    "ExecuteTime": {
     "end_time": "2023-03-08T20:10:13.133665Z",
     "start_time": "2023-03-08T20:10:11.926Z"
    }
   },
   "outputs": [],
   "source": [
    "region = gpd.read_file(r\"D:\\bike\\shp\\shenzhen\\shenzhen.shp\")"
   ]
  },
  {
   "cell_type": "code",
   "execution_count": null,
   "id": "5bdb8fd4",
   "metadata": {
    "ExecuteTime": {
     "end_time": "2023-03-08T20:10:13.134663Z",
     "start_time": "2023-03-08T20:10:11.927Z"
    },
    "scrolled": true
   },
   "outputs": [],
   "source": [
    "fig,ax=plt.subplots(figsize=(8,8))\n",
    "age.plot(column='chn_f_0_2020',cmap='Reds',ax=ax,legend=True,\n",
    "            legend_kwds={'orientation':'vertical','shrink':0.45,'label':'chn_f_0_2020 (persons/km2)'})\n",
    "region.plot(ax=ax,facecolor='none',edgecolor='k')"
   ]
  },
  {
   "cell_type": "markdown",
   "id": "909b867c",
   "metadata": {},
   "source": [
    "# Age"
   ]
  },
  {
   "cell_type": "code",
   "execution_count": null,
   "id": "627490dc",
   "metadata": {
    "ExecuteTime": {
     "end_time": "2023-03-08T20:10:13.135661Z",
     "start_time": "2023-03-08T20:10:11.928Z"
    }
   },
   "outputs": [],
   "source": [
    "import os\n",
    "folder = r\"D:\\bike\\code\\metro\\age\\age\"\n",
    "shp_list = []\n",
    "for i in os.walk(folder):\n",
    "    for m in i[2]:\n",
    "        if m.endswith('shp'):\n",
    "            shp_list.append(m)"
   ]
  },
  {
   "cell_type": "code",
   "execution_count": null,
   "id": "1d2e277c",
   "metadata": {
    "ExecuteTime": {
     "end_time": "2023-03-08T20:10:13.136658Z",
     "start_time": "2023-03-08T20:10:11.929Z"
    },
    "scrolled": true
   },
   "outputs": [],
   "source": [
    "shp_list"
   ]
  },
  {
   "cell_type": "code",
   "execution_count": null,
   "id": "e8b58fbc",
   "metadata": {
    "ExecuteTime": {
     "end_time": "2023-03-08T20:10:13.137656Z",
     "start_time": "2023-03-08T20:10:11.930Z"
    }
   },
   "outputs": [],
   "source": [
    "hex_area = gpd.read_file(r\"D:\\bike\\code\\metro\\Preprocessing-bike data\\hex_shp\\Differ_Area.shp\")\n",
    "hex_area\n",
    "hex_area = hex_area.set_crs('epsg:4326')\n",
    "hex_area_copy = hex_area.to_crs('epsg:32649')\n",
    "hex_area_copy['area']= hex_area_copy.area\n",
    "\n",
    "for x in shp_list:\n",
    "    \n",
    "    age = gpd.read_file(r\"D:\\bike\\code\\metro\\age\\age\\{}\".format(x))\n",
    "    age = age.fillna(0)\n",
    "    age['SAMPLE_1'] = age['SAMPLE_1']*100\n",
    "    age = age.rename(columns = {'SAMPLE_1':'{}'.format(x)})\n",
    "    age = age[['hex_id','{}'.format(x)]]\n",
    "    hex_area_copy = hex_area_copy.merge(age,on = 'hex_id')\n",
    "    "
   ]
  },
  {
   "cell_type": "code",
   "execution_count": null,
   "id": "7acf3ac0",
   "metadata": {
    "ExecuteTime": {
     "end_time": "2023-03-08T20:10:13.137656Z",
     "start_time": "2023-03-08T20:10:11.931Z"
    }
   },
   "outputs": [],
   "source": [
    "hex_area_copy"
   ]
  },
  {
   "cell_type": "code",
   "execution_count": null,
   "id": "4336f06d",
   "metadata": {
    "ExecuteTime": {
     "end_time": "2023-03-08T20:10:13.138652Z",
     "start_time": "2023-03-08T20:10:11.932Z"
    }
   },
   "outputs": [],
   "source": [
    "age = hex_area_copy "
   ]
  },
  {
   "cell_type": "code",
   "execution_count": null,
   "id": "b031f5f9",
   "metadata": {
    "ExecuteTime": {
     "end_time": "2023-03-08T20:10:13.139650Z",
     "start_time": "2023-03-08T20:10:11.933Z"
    }
   },
   "outputs": [],
   "source": [
    "age['female'] = age[[col for col in age.columns if \"chn_f\" in col]].sum(axis=1)\n",
    "age['male'] = age[[col for col in age.columns if \"chn_m\" in col]].sum(axis=1)\n",
    "age['male%'] = age['male']/(age['female']+age['male'])\n",
    "age['female%'] = age['female']/(age['female']+age['male'])"
   ]
  },
  {
   "cell_type": "code",
   "execution_count": null,
   "id": "274aee52",
   "metadata": {
    "ExecuteTime": {
     "end_time": "2023-03-08T20:10:13.140647Z",
     "start_time": "2023-03-08T20:10:11.934Z"
    }
   },
   "outputs": [],
   "source": [
    "age['age_0'] = age[[col for col in age.columns if \"_0_2020\" in col]].sum(axis=1)\n",
    "age['age_1'] = age[[col for col in age.columns if \"_1_2020\" in col]].sum(axis=1)\n",
    "age['age_5'] = age[[col for col in age.columns if \"_5_2020\" in col]].sum(axis=1)\n",
    "age['age_10'] = age[[col for col in age.columns if \"_10_2020\" in col]].sum(axis=1)\n",
    "age['age_15'] = age[[col for col in age.columns if \"_15_2020\" in col]].sum(axis=1)\n",
    "age['age_20'] = age[[col for col in age.columns if \"_20_2020\" in col]].sum(axis=1)\n",
    "age['age_25'] = age[[col for col in age.columns if \"_25_2020\" in col]].sum(axis=1)\n",
    "age['age_30'] = age[[col for col in age.columns if \"_30_2020\" in col]].sum(axis=1)\n",
    "age['age_35'] = age[[col for col in age.columns if \"_35_2020\" in col]].sum(axis=1)\n",
    "age['age_40'] = age[[col for col in age.columns if \"_40_2020\" in col]].sum(axis=1)\n",
    "age['age_45'] = age[[col for col in age.columns if \"_45_2020\" in col]].sum(axis=1)\n",
    "age['age_50'] = age[[col for col in age.columns if \"_50_2020\" in col]].sum(axis=1)\n",
    "age['age_55'] = age[[col for col in age.columns if \"_55_2020\" in col]].sum(axis=1)\n",
    "age['age_60'] = age[[col for col in age.columns if \"_60_2020\" in col]].sum(axis=1)\n",
    "age['age_65'] = age[[col for col in age.columns if \"_65_2020\" in col]].sum(axis=1)\n",
    "age['age_70'] = age[[col for col in age.columns if \"_70_2020\" in col]].sum(axis=1)\n",
    "age['age_75'] = age[[col for col in age.columns if \"_75_2020\" in col]].sum(axis=1)\n",
    "age['age_80'] = age[[col for col in age.columns if \"_80_2020\" in col]].sum(axis=1)"
   ]
  },
  {
   "cell_type": "code",
   "execution_count": null,
   "id": "a254b060",
   "metadata": {
    "ExecuteTime": {
     "end_time": "2023-03-08T20:10:13.141644Z",
     "start_time": "2023-03-08T20:10:11.935Z"
    }
   },
   "outputs": [],
   "source": [
    "age['all'] = age[[col for col in age.columns if \"age_\" in col]].sum(axis=1)\n",
    "age['0-14'] = age['age_0'] + age['age_1'] + age['age_5'] + age['age_10']\n",
    "age['60+'] = age['age_60'] + age['age_65'] + age['age_70'] + age['age_75']+ age['age_80']\n",
    "age['15-60'] = age['all'] - age['0-14'] - age['60+']\n",
    "age['0-14%'] = age['0-14']/age['all']\n",
    "age['15-60%'] = age['15-60']/age['all']\n",
    "age['60+%'] = age['60+']/age['all']"
   ]
  },
  {
   "cell_type": "code",
   "execution_count": null,
   "id": "08ead7ee",
   "metadata": {
    "ExecuteTime": {
     "end_time": "2023-03-08T20:10:13.141644Z",
     "start_time": "2023-03-08T20:10:11.935Z"
    }
   },
   "outputs": [],
   "source": [
    "age.to_csv(r\"D:\\bike\\code\\metro\\Preprocessing-bike data\\age.csv\")"
   ]
  },
  {
   "cell_type": "code",
   "execution_count": null,
   "id": "9e3051d5",
   "metadata": {
    "ExecuteTime": {
     "end_time": "2023-03-08T20:10:13.142643Z",
     "start_time": "2023-03-08T20:10:11.936Z"
    }
   },
   "outputs": [],
   "source": [
    "age_variable = age[['hex_id', 'cluster_la', 'functional', 'function_1', 'geometry',\n",
    "       'area','0-14','15-60','60+','all','0-14%','15-60%','60+%','female','male','male%','female%']]"
   ]
  },
  {
   "cell_type": "code",
   "execution_count": null,
   "id": "d41b780a",
   "metadata": {
    "ExecuteTime": {
     "end_time": "2023-03-08T20:10:13.143639Z",
     "start_time": "2023-03-08T20:10:11.937Z"
    }
   },
   "outputs": [],
   "source": [
    "age_variable.to_csv(r\"D:\\bike\\code\\metro\\Preprocessing-bike data\\age_variable.csv\")"
   ]
  },
  {
   "cell_type": "code",
   "execution_count": null,
   "id": "85c097cf",
   "metadata": {},
   "outputs": [],
   "source": []
  }
 ],
 "metadata": {
  "kernelspec": {
   "display_name": "Python 3",
   "language": "python",
   "name": "python3"
  },
  "language_info": {
   "codemirror_mode": {
    "name": "ipython",
    "version": 3
   },
   "file_extension": ".py",
   "mimetype": "text/x-python",
   "name": "python",
   "nbconvert_exporter": "python",
   "pygments_lexer": "ipython3",
   "version": "3.8.8"
  },
  "toc": {
   "base_numbering": 1,
   "nav_menu": {},
   "number_sections": true,
   "sideBar": true,
   "skip_h1_title": false,
   "title_cell": "Table of Contents",
   "title_sidebar": "Contents",
   "toc_cell": false,
   "toc_position": {},
   "toc_section_display": true,
   "toc_window_display": false
  }
 },
 "nbformat": 4,
 "nbformat_minor": 5
}
