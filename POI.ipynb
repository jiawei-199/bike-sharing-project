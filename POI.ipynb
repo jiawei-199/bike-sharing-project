{
 "cells": [
  {
   "cell_type": "code",
   "execution_count": 1,
   "id": "e363ef7a",
   "metadata": {},
   "outputs": [],
   "source": [
    "import pandas as pd\n",
    "import geopandas as gpd"
   ]
  },
  {
   "cell_type": "code",
   "execution_count": 2,
   "id": "f6e4d6cc",
   "metadata": {},
   "outputs": [],
   "source": [
    "region = gpd.read_file(r\"D:\\bike\\shp\\深圳\\深圳街道.shp\")"
   ]
  },
  {
   "cell_type": "code",
   "execution_count": 3,
   "id": "e0e6f4ae",
   "metadata": {},
   "outputs": [
    {
     "data": {
      "text/html": [
       "<div>\n",
       "<style scoped>\n",
       "    .dataframe tbody tr th:only-of-type {\n",
       "        vertical-align: middle;\n",
       "    }\n",
       "\n",
       "    .dataframe tbody tr th {\n",
       "        vertical-align: top;\n",
       "    }\n",
       "\n",
       "    .dataframe thead th {\n",
       "        text-align: right;\n",
       "    }\n",
       "</style>\n",
       "<table border=\"1\" class=\"dataframe\">\n",
       "  <thead>\n",
       "    <tr style=\"text-align: right;\">\n",
       "      <th></th>\n",
       "      <th>JDNAME</th>\n",
       "      <th>JDCODE</th>\n",
       "      <th>OBJECTID</th>\n",
       "      <th>SHAPE_Leng</th>\n",
       "      <th>SHAPE_Area</th>\n",
       "      <th>geometry</th>\n",
       "    </tr>\n",
       "  </thead>\n",
       "  <tbody>\n",
       "    <tr>\n",
       "      <th>0</th>\n",
       "      <td>笋岗</td>\n",
       "      <td>440303005</td>\n",
       "      <td>1.0</td>\n",
       "      <td>7354.243701</td>\n",
       "      <td>3.467528e+06</td>\n",
       "      <td>POLYGON ((510214.089 2495651.497, 510214.032 2...</td>\n",
       "    </tr>\n",
       "    <tr>\n",
       "      <th>1</th>\n",
       "      <td>翠竹</td>\n",
       "      <td>440303007</td>\n",
       "      <td>2.0</td>\n",
       "      <td>8123.061832</td>\n",
       "      <td>3.437404e+06</td>\n",
       "      <td>POLYGON ((513601.371 2497697.432, 513573.992 2...</td>\n",
       "    </tr>\n",
       "    <tr>\n",
       "      <th>2</th>\n",
       "      <td>莲塘</td>\n",
       "      <td>440303010</td>\n",
       "      <td>3.0</td>\n",
       "      <td>19429.536095</td>\n",
       "      <td>1.104122e+07</td>\n",
       "      <td>POLYGON ((520390.877 2495550.783, 520383.652 2...</td>\n",
       "    </tr>\n",
       "    <tr>\n",
       "      <th>3</th>\n",
       "      <td>新湖</td>\n",
       "      <td>440306016</td>\n",
       "      <td>4.0</td>\n",
       "      <td>41262.738311</td>\n",
       "      <td>4.036503e+07</td>\n",
       "      <td>POLYGON ((493125.277 2526347.765, 493122.625 2...</td>\n",
       "    </tr>\n",
       "    <tr>\n",
       "      <th>4</th>\n",
       "      <td>凤凰</td>\n",
       "      <td>440306017</td>\n",
       "      <td>5.0</td>\n",
       "      <td>29274.256376</td>\n",
       "      <td>2.191594e+07</td>\n",
       "      <td>POLYGON ((492256.216 2514406.764, 492256.174 2...</td>\n",
       "    </tr>\n",
       "    <tr>\n",
       "      <th>...</th>\n",
       "      <td>...</td>\n",
       "      <td>...</td>\n",
       "      <td>...</td>\n",
       "      <td>...</td>\n",
       "      <td>...</td>\n",
       "      <td>...</td>\n",
       "    </tr>\n",
       "    <tr>\n",
       "      <th>71</th>\n",
       "      <td>西乡</td>\n",
       "      <td>440306001</td>\n",
       "      <td>72.0</td>\n",
       "      <td>55535.521302</td>\n",
       "      <td>5.811580e+07</td>\n",
       "      <td>POLYGON ((487168.119 2497108.909, 487133.378 2...</td>\n",
       "    </tr>\n",
       "    <tr>\n",
       "      <th>72</th>\n",
       "      <td>坂田</td>\n",
       "      <td>440307003</td>\n",
       "      <td>73.0</td>\n",
       "      <td>31737.341475</td>\n",
       "      <td>2.847636e+07</td>\n",
       "      <td>POLYGON ((506555.377 2508823.354, 506556.210 2...</td>\n",
       "    </tr>\n",
       "    <tr>\n",
       "      <th>73</th>\n",
       "      <td>南湖</td>\n",
       "      <td>440303002</td>\n",
       "      <td>74.0</td>\n",
       "      <td>7849.542230</td>\n",
       "      <td>2.772948e+06</td>\n",
       "      <td>POLYGON ((513051.752 2493681.397, 513052.158 2...</td>\n",
       "    </tr>\n",
       "    <tr>\n",
       "      <th>74</th>\n",
       "      <td>东晓</td>\n",
       "      <td>440303008</td>\n",
       "      <td>75.0</td>\n",
       "      <td>8388.538631</td>\n",
       "      <td>3.429644e+06</td>\n",
       "      <td>POLYGON ((511685.474 2499482.659, 511687.897 2...</td>\n",
       "    </tr>\n",
       "    <tr>\n",
       "      <th>75</th>\n",
       "      <td>福田</td>\n",
       "      <td>440304003</td>\n",
       "      <td>76.0</td>\n",
       "      <td>13105.198060</td>\n",
       "      <td>8.201149e+06</td>\n",
       "      <td>POLYGON ((508398.035 2493948.821, 508398.298 2...</td>\n",
       "    </tr>\n",
       "  </tbody>\n",
       "</table>\n",
       "<p>76 rows × 6 columns</p>\n",
       "</div>"
      ],
      "text/plain": [
       "   JDNAME     JDCODE  OBJECTID    SHAPE_Leng    SHAPE_Area  \\\n",
       "0      笋岗  440303005       1.0   7354.243701  3.467528e+06   \n",
       "1      翠竹  440303007       2.0   8123.061832  3.437404e+06   \n",
       "2      莲塘  440303010       3.0  19429.536095  1.104122e+07   \n",
       "3      新湖  440306016       4.0  41262.738311  4.036503e+07   \n",
       "4      凤凰  440306017       5.0  29274.256376  2.191594e+07   \n",
       "..    ...        ...       ...           ...           ...   \n",
       "71     西乡  440306001      72.0  55535.521302  5.811580e+07   \n",
       "72     坂田  440307003      73.0  31737.341475  2.847636e+07   \n",
       "73     南湖  440303002      74.0   7849.542230  2.772948e+06   \n",
       "74     东晓  440303008      75.0   8388.538631  3.429644e+06   \n",
       "75     福田  440304003      76.0  13105.198060  8.201149e+06   \n",
       "\n",
       "                                             geometry  \n",
       "0   POLYGON ((510214.089 2495651.497, 510214.032 2...  \n",
       "1   POLYGON ((513601.371 2497697.432, 513573.992 2...  \n",
       "2   POLYGON ((520390.877 2495550.783, 520383.652 2...  \n",
       "3   POLYGON ((493125.277 2526347.765, 493122.625 2...  \n",
       "4   POLYGON ((492256.216 2514406.764, 492256.174 2...  \n",
       "..                                                ...  \n",
       "71  POLYGON ((487168.119 2497108.909, 487133.378 2...  \n",
       "72  POLYGON ((506555.377 2508823.354, 506556.210 2...  \n",
       "73  POLYGON ((513051.752 2493681.397, 513052.158 2...  \n",
       "74  POLYGON ((511685.474 2499482.659, 511687.897 2...  \n",
       "75  POLYGON ((508398.035 2493948.821, 508398.298 2...  \n",
       "\n",
       "[76 rows x 6 columns]"
      ]
     },
     "execution_count": 3,
     "metadata": {},
     "output_type": "execute_result"
    }
   ],
   "source": [
    "region"
   ]
  },
  {
   "cell_type": "code",
   "execution_count": 4,
   "id": "353a1d16",
   "metadata": {},
   "outputs": [
    {
     "data": {
      "text/plain": [
       "<AxesSubplot:>"
      ]
     },
     "execution_count": 4,
     "metadata": {},
     "output_type": "execute_result"
    },
    {
     "data": {
      "image/png": "[encoded data removed]",
      "text/plain": [
       "<Figure size 432x288 with 1 Axes>"
      ]
     },
     "metadata": {
      "needs_background": "light"
     },
     "output_type": "display_data"
    }
   ],
   "source": [
    "region.plot()"
   ]
  },
  {
   "cell_type": "markdown",
   "id": "fcd75088",
   "metadata": {},
   "source": [
    "# 读取数据"
   ]
  },
  {
   "cell_type": "markdown",
   "id": "dc10dd9d",
   "metadata": {},
   "source": [
    "## restaurant"
   ]
  },
  {
   "cell_type": "code",
   "execution_count": 5,
   "id": "0f8d4ece",
   "metadata": {
    "scrolled": false
   },
   "outputs": [],
   "source": [
    "df = gpd.read_file(r\"D:\\bike\\shp\\深圳市POI\\ShapeFile\\深圳市_餐饮服务_20220602_034130.shp\")"
   ]
  },
  {
   "cell_type": "code",
   "execution_count": 6,
   "id": "57e4b16d",
   "metadata": {},
   "outputs": [
    {
     "data": {
      "text/html": [
       "<div>\n",
       "<style scoped>\n",
       "    .dataframe tbody tr th:only-of-type {\n",
       "        vertical-align: middle;\n",
       "    }\n",
       "\n",
       "    .dataframe tbody tr th {\n",
       "        vertical-align: top;\n",
       "    }\n",
       "\n",
       "    .dataframe thead th {\n",
       "        text-align: right;\n",
       "    }\n",
       "</style>\n",
       "<table border=\"1\" class=\"dataframe\">\n",
       "  <thead>\n",
       "    <tr style=\"text-align: right;\">\n",
       "      <th></th>\n",
       "      <th>parent</th>\n",
       "      <th>distance</th>\n",
       "      <th>pcode</th>\n",
       "      <th>importance</th>\n",
       "      <th>biz_ext</th>\n",
       "      <th>recommend</th>\n",
       "      <th>type</th>\n",
       "      <th>photos</th>\n",
       "      <th>discount_n</th>\n",
       "      <th>gridcode</th>\n",
       "      <th>...</th>\n",
       "      <th>groupbuy_n</th>\n",
       "      <th>longitude_</th>\n",
       "      <th>latitude_g</th>\n",
       "      <th>longitud_1</th>\n",
       "      <th>latitude_w</th>\n",
       "      <th>typecode_s</th>\n",
       "      <th>大类</th>\n",
       "      <th>中类</th>\n",
       "      <th>小类</th>\n",
       "      <th>geometry</th>\n",
       "    </tr>\n",
       "  </thead>\n",
       "  <tbody>\n",
       "    <tr>\n",
       "      <th>0</th>\n",
       "      <td>[]</td>\n",
       "      <td>[]</td>\n",
       "      <td>440000</td>\n",
       "      <td>[]</td>\n",
       "      <td>{'cost': [], 'rating': [], 'meal_ordering': '0'}</td>\n",
       "      <td>0</td>\n",
       "      <td>餐饮服务;餐饮相关场所;餐饮相关</td>\n",
       "      <td>[]</td>\n",
       "      <td>0</td>\n",
       "      <td>3413061122</td>\n",
       "      <td>...</td>\n",
       "      <td>0</td>\n",
       "      <td>113.772106</td>\n",
       "      <td>22.681099</td>\n",
       "      <td>113.766957</td>\n",
       "      <td>22.683956</td>\n",
       "      <td>50000</td>\n",
       "      <td>餐饮服务</td>\n",
       "      <td>餐饮相关场所</td>\n",
       "      <td>餐饮相关</td>\n",
       "      <td>POINT (113.76696 22.68396)</td>\n",
       "    </tr>\n",
       "    <tr>\n",
       "      <th>1</th>\n",
       "      <td>[]</td>\n",
       "      <td>[]</td>\n",
       "      <td>440000</td>\n",
       "      <td>[]</td>\n",
       "      <td>{'cost': [], 'rating': '4.2', 'meal_ordering':...</td>\n",
       "      <td>0</td>\n",
       "      <td>餐饮服务;中餐厅;中餐厅</td>\n",
       "      <td>[{'title': [], 'url': 'http://store.is.autonav...</td>\n",
       "      <td>0</td>\n",
       "      <td>3413062210</td>\n",
       "      <td>...</td>\n",
       "      <td>0</td>\n",
       "      <td>113.776722</td>\n",
       "      <td>22.686121</td>\n",
       "      <td>113.771580</td>\n",
       "      <td>22.688980</td>\n",
       "      <td>50100</td>\n",
       "      <td>餐饮服务</td>\n",
       "      <td>中餐厅</td>\n",
       "      <td>中餐厅</td>\n",
       "      <td>POINT (113.77158 22.68898)</td>\n",
       "    </tr>\n",
       "    <tr>\n",
       "      <th>2</th>\n",
       "      <td>[]</td>\n",
       "      <td>[]</td>\n",
       "      <td>440000</td>\n",
       "      <td>[]</td>\n",
       "      <td>{'cost': [], 'rating': '3.8', 'meal_ordering':...</td>\n",
       "      <td>0</td>\n",
       "      <td>餐饮服务;中餐厅;中餐厅</td>\n",
       "      <td>[]</td>\n",
       "      <td>0</td>\n",
       "      <td>3413062200</td>\n",
       "      <td>...</td>\n",
       "      <td>0</td>\n",
       "      <td>113.776765</td>\n",
       "      <td>22.685959</td>\n",
       "      <td>113.771623</td>\n",
       "      <td>22.688819</td>\n",
       "      <td>50100</td>\n",
       "      <td>餐饮服务</td>\n",
       "      <td>中餐厅</td>\n",
       "      <td>中餐厅</td>\n",
       "      <td>POINT (113.77162 22.68882)</td>\n",
       "    </tr>\n",
       "    <tr>\n",
       "      <th>3</th>\n",
       "      <td>[]</td>\n",
       "      <td>[]</td>\n",
       "      <td>440000</td>\n",
       "      <td>[]</td>\n",
       "      <td>{'cost': [], 'rating': [], 'meal_ordering': '0'}</td>\n",
       "      <td>0</td>\n",
       "      <td>餐饮服务;中餐厅;中餐厅</td>\n",
       "      <td>[]</td>\n",
       "      <td>0</td>\n",
       "      <td>3413062200</td>\n",
       "      <td>...</td>\n",
       "      <td>0</td>\n",
       "      <td>113.776758</td>\n",
       "      <td>22.686088</td>\n",
       "      <td>113.771616</td>\n",
       "      <td>22.688948</td>\n",
       "      <td>50100</td>\n",
       "      <td>餐饮服务</td>\n",
       "      <td>中餐厅</td>\n",
       "      <td>中餐厅</td>\n",
       "      <td>POINT (113.77162 22.68895)</td>\n",
       "    </tr>\n",
       "    <tr>\n",
       "      <th>4</th>\n",
       "      <td>[]</td>\n",
       "      <td>[]</td>\n",
       "      <td>440000</td>\n",
       "      <td>[]</td>\n",
       "      <td>{'cost': [], 'rating': '4.1', 'meal_ordering':...</td>\n",
       "      <td>0</td>\n",
       "      <td>餐饮服务;快餐厅;快餐厅</td>\n",
       "      <td>[{'title': [], 'url': 'https://img.alicdn.com/...</td>\n",
       "      <td>0</td>\n",
       "      <td>3413061201</td>\n",
       "      <td>...</td>\n",
       "      <td>0</td>\n",
       "      <td>113.781828</td>\n",
       "      <td>22.676027</td>\n",
       "      <td>113.776696</td>\n",
       "      <td>22.678894</td>\n",
       "      <td>50300</td>\n",
       "      <td>餐饮服务</td>\n",
       "      <td>快餐厅</td>\n",
       "      <td>快餐厅</td>\n",
       "      <td>POINT (113.77670 22.67889)</td>\n",
       "    </tr>\n",
       "  </tbody>\n",
       "</table>\n",
       "<p>5 rows × 51 columns</p>\n",
       "</div>"
      ],
      "text/plain": [
       "  parent distance   pcode importance  \\\n",
       "0     []       []  440000         []   \n",
       "1     []       []  440000         []   \n",
       "2     []       []  440000         []   \n",
       "3     []       []  440000         []   \n",
       "4     []       []  440000         []   \n",
       "\n",
       "                                             biz_ext  recommend  \\\n",
       "0   {'cost': [], 'rating': [], 'meal_ordering': '0'}          0   \n",
       "1  {'cost': [], 'rating': '4.2', 'meal_ordering':...          0   \n",
       "2  {'cost': [], 'rating': '3.8', 'meal_ordering':...          0   \n",
       "3   {'cost': [], 'rating': [], 'meal_ordering': '0'}          0   \n",
       "4  {'cost': [], 'rating': '4.1', 'meal_ordering':...          0   \n",
       "\n",
       "               type                                             photos  \\\n",
       "0  餐饮服务;餐饮相关场所;餐饮相关                                                 []   \n",
       "1      餐饮服务;中餐厅;中餐厅  [{'title': [], 'url': 'http://store.is.autonav...   \n",
       "2      餐饮服务;中餐厅;中餐厅                                                 []   \n",
       "3      餐饮服务;中餐厅;中餐厅                                                 []   \n",
       "4      餐饮服务;快餐厅;快餐厅  [{'title': [], 'url': 'https://img.alicdn.com/...   \n",
       "\n",
       "   discount_n    gridcode  ... groupbuy_n  longitude_ latitude_g  longitud_1  \\\n",
       "0           0  3413061122  ...          0  113.772106  22.681099  113.766957   \n",
       "1           0  3413062210  ...          0  113.776722  22.686121  113.771580   \n",
       "2           0  3413062200  ...          0  113.776765  22.685959  113.771623   \n",
       "3           0  3413062200  ...          0  113.776758  22.686088  113.771616   \n",
       "4           0  3413061201  ...          0  113.781828  22.676027  113.776696   \n",
       "\n",
       "  latitude_w typecode_s    大类      中类    小类                    geometry  \n",
       "0  22.683956      50000  餐饮服务  餐饮相关场所  餐饮相关  POINT (113.76696 22.68396)  \n",
       "1  22.688980      50100  餐饮服务     中餐厅   中餐厅  POINT (113.77158 22.68898)  \n",
       "2  22.688819      50100  餐饮服务     中餐厅   中餐厅  POINT (113.77162 22.68882)  \n",
       "3  22.688948      50100  餐饮服务     中餐厅   中餐厅  POINT (113.77162 22.68895)  \n",
       "4  22.678894      50300  餐饮服务     快餐厅   快餐厅  POINT (113.77670 22.67889)  \n",
       "\n",
       "[5 rows x 51 columns]"
      ]
     },
     "execution_count": 6,
     "metadata": {},
     "output_type": "execute_result"
    }
   ],
   "source": [
    "df.head()"
   ]
  },
  {
   "cell_type": "code",
   "execution_count": 7,
   "id": "1ea466a8",
   "metadata": {},
   "outputs": [
    {
     "data": {
      "text/plain": [
       "138227"
      ]
     },
     "execution_count": 7,
     "metadata": {},
     "output_type": "execute_result"
    }
   ],
   "source": [
    "len(df)"
   ]
  },
  {
   "cell_type": "code",
   "execution_count": 8,
   "id": "0dab79b5",
   "metadata": {
    "scrolled": false
   },
   "outputs": [
    {
     "data": {
      "text/plain": [
       "<AxesSubplot:>"
      ]
     },
     "execution_count": 8,
     "metadata": {},
     "output_type": "execute_result"
    },
    {
     "data": {
      "image/png": "[encoded data removed]",
      "text/plain": [
       "<Figure size 432x288 with 1 Axes>"
      ]
     },
     "metadata": {
      "needs_background": "light"
     },
     "output_type": "display_data"
    }
   ],
   "source": [
    "df.plot()"
   ]
  },
  {
   "cell_type": "code",
   "execution_count": 2,
   "id": "86b01437",
   "metadata": {
    "scrolled": false
   },
   "outputs": [],
   "source": [
    "df_work = gpd.read_file(r\"D:\\bike\\shp\\深圳市POI\\ShapeFile\\深圳市_公司企业_20220602_041919.shp\")"
   ]
  },
  {
   "cell_type": "code",
   "execution_count": 3,
   "id": "b17ae5fa",
   "metadata": {},
   "outputs": [
    {
     "data": {
      "text/html": [
       "<div>\n",
       "<style scoped>\n",
       "    .dataframe tbody tr th:only-of-type {\n",
       "        vertical-align: middle;\n",
       "    }\n",
       "\n",
       "    .dataframe tbody tr th {\n",
       "        vertical-align: top;\n",
       "    }\n",
       "\n",
       "    .dataframe thead th {\n",
       "        text-align: right;\n",
       "    }\n",
       "</style>\n",
       "<table border=\"1\" class=\"dataframe\">\n",
       "  <thead>\n",
       "    <tr style=\"text-align: right;\">\n",
       "      <th></th>\n",
       "      <th>parent</th>\n",
       "      <th>distance</th>\n",
       "      <th>pcode</th>\n",
       "      <th>importance</th>\n",
       "      <th>biz_ext</th>\n",
       "      <th>recommend</th>\n",
       "      <th>type</th>\n",
       "      <th>photos</th>\n",
       "      <th>discount_n</th>\n",
       "      <th>gridcode</th>\n",
       "      <th>...</th>\n",
       "      <th>groupbuy_n</th>\n",
       "      <th>longitude_</th>\n",
       "      <th>latitude_g</th>\n",
       "      <th>longitud_1</th>\n",
       "      <th>latitude_w</th>\n",
       "      <th>typecode_s</th>\n",
       "      <th>大类</th>\n",
       "      <th>中类</th>\n",
       "      <th>小类</th>\n",
       "      <th>geometry</th>\n",
       "    </tr>\n",
       "  </thead>\n",
       "  <tbody>\n",
       "    <tr>\n",
       "      <th>0</th>\n",
       "      <td>[]</td>\n",
       "      <td>[]</td>\n",
       "      <td>440000</td>\n",
       "      <td>[]</td>\n",
       "      <td>{'cost': [], 'rating': []}</td>\n",
       "      <td>0</td>\n",
       "      <td>公司企业;公司企业;公司企业</td>\n",
       "      <td>[]</td>\n",
       "      <td>0</td>\n",
       "      <td>3413061120</td>\n",
       "      <td>...</td>\n",
       "      <td>0</td>\n",
       "      <td>113.765033</td>\n",
       "      <td>22.681966</td>\n",
       "      <td>113.759875</td>\n",
       "      <td>22.684818</td>\n",
       "      <td>170000</td>\n",
       "      <td>公司企业</td>\n",
       "      <td>公司企业</td>\n",
       "      <td>公司企业</td>\n",
       "      <td>POINT (113.75987 22.68482)</td>\n",
       "    </tr>\n",
       "    <tr>\n",
       "      <th>1</th>\n",
       "      <td>[]</td>\n",
       "      <td>[]</td>\n",
       "      <td>440000</td>\n",
       "      <td>[]</td>\n",
       "      <td>{'cost': [], 'rating': []}</td>\n",
       "      <td>0</td>\n",
       "      <td>公司企业;公司;冶金化工</td>\n",
       "      <td>[]</td>\n",
       "      <td>0</td>\n",
       "      <td>3413061110</td>\n",
       "      <td>...</td>\n",
       "      <td>0</td>\n",
       "      <td>113.766580</td>\n",
       "      <td>22.680207</td>\n",
       "      <td>113.761424</td>\n",
       "      <td>22.683060</td>\n",
       "      <td>170205</td>\n",
       "      <td>公司企业</td>\n",
       "      <td>公司</td>\n",
       "      <td>冶金化工</td>\n",
       "      <td>POINT (113.76142 22.68306)</td>\n",
       "    </tr>\n",
       "    <tr>\n",
       "      <th>2</th>\n",
       "      <td>[]</td>\n",
       "      <td>[]</td>\n",
       "      <td>440000</td>\n",
       "      <td>[]</td>\n",
       "      <td>{'cost': [], 'rating': []}</td>\n",
       "      <td>0</td>\n",
       "      <td>公司企业;公司企业;公司企业</td>\n",
       "      <td>[{'title': [], 'url': 'http://store.is.autonav...</td>\n",
       "      <td>0</td>\n",
       "      <td>3413061121</td>\n",
       "      <td>...</td>\n",
       "      <td>0</td>\n",
       "      <td>113.768497</td>\n",
       "      <td>22.681771</td>\n",
       "      <td>113.763343</td>\n",
       "      <td>22.684625</td>\n",
       "      <td>170000</td>\n",
       "      <td>公司企业</td>\n",
       "      <td>公司企业</td>\n",
       "      <td>公司企业</td>\n",
       "      <td>POINT (113.76334 22.68462)</td>\n",
       "    </tr>\n",
       "    <tr>\n",
       "      <th>3</th>\n",
       "      <td>[]</td>\n",
       "      <td>[]</td>\n",
       "      <td>440000</td>\n",
       "      <td>[]</td>\n",
       "      <td>{'cost': [], 'rating': []}</td>\n",
       "      <td>0</td>\n",
       "      <td>公司企业;公司;公司</td>\n",
       "      <td>[]</td>\n",
       "      <td>0</td>\n",
       "      <td>3413060101</td>\n",
       "      <td>...</td>\n",
       "      <td>0</td>\n",
       "      <td>113.768935</td>\n",
       "      <td>22.668655</td>\n",
       "      <td>113.763782</td>\n",
       "      <td>22.671512</td>\n",
       "      <td>170200</td>\n",
       "      <td>公司企业</td>\n",
       "      <td>公司</td>\n",
       "      <td>公司</td>\n",
       "      <td>POINT (113.76378 22.67151)</td>\n",
       "    </tr>\n",
       "    <tr>\n",
       "      <th>4</th>\n",
       "      <td>[]</td>\n",
       "      <td>[]</td>\n",
       "      <td>440000</td>\n",
       "      <td>[]</td>\n",
       "      <td>{'cost': [], 'rating': []}</td>\n",
       "      <td>0</td>\n",
       "      <td>公司企业;工厂;工厂</td>\n",
       "      <td>[]</td>\n",
       "      <td>0</td>\n",
       "      <td>3313768322</td>\n",
       "      <td>...</td>\n",
       "      <td>0</td>\n",
       "      <td>113.796279</td>\n",
       "      <td>22.656903</td>\n",
       "      <td>113.791178</td>\n",
       "      <td>22.659794</td>\n",
       "      <td>170300</td>\n",
       "      <td>公司企业</td>\n",
       "      <td>工厂</td>\n",
       "      <td>工厂</td>\n",
       "      <td>POINT (113.79118 22.65979)</td>\n",
       "    </tr>\n",
       "  </tbody>\n",
       "</table>\n",
       "<p>5 rows × 51 columns</p>\n",
       "</div>"
      ],
      "text/plain": [
       "  parent distance   pcode importance                     biz_ext  recommend  \\\n",
       "0     []       []  440000         []  {'cost': [], 'rating': []}          0   \n",
       "1     []       []  440000         []  {'cost': [], 'rating': []}          0   \n",
       "2     []       []  440000         []  {'cost': [], 'rating': []}          0   \n",
       "3     []       []  440000         []  {'cost': [], 'rating': []}          0   \n",
       "4     []       []  440000         []  {'cost': [], 'rating': []}          0   \n",
       "\n",
       "             type                                             photos  \\\n",
       "0  公司企业;公司企业;公司企业                                                 []   \n",
       "1    公司企业;公司;冶金化工                                                 []   \n",
       "2  公司企业;公司企业;公司企业  [{'title': [], 'url': 'http://store.is.autonav...   \n",
       "3      公司企业;公司;公司                                                 []   \n",
       "4      公司企业;工厂;工厂                                                 []   \n",
       "\n",
       "   discount_n    gridcode  ... groupbuy_n  longitude_ latitude_g  longitud_1  \\\n",
       "0           0  3413061120  ...          0  113.765033  22.681966  113.759875   \n",
       "1           0  3413061110  ...          0  113.766580  22.680207  113.761424   \n",
       "2           0  3413061121  ...          0  113.768497  22.681771  113.763343   \n",
       "3           0  3413060101  ...          0  113.768935  22.668655  113.763782   \n",
       "4           0  3313768322  ...          0  113.796279  22.656903  113.791178   \n",
       "\n",
       "  latitude_w typecode_s    大类    中类    小类                    geometry  \n",
       "0  22.684818     170000  公司企业  公司企业  公司企业  POINT (113.75987 22.68482)  \n",
       "1  22.683060     170205  公司企业    公司  冶金化工  POINT (113.76142 22.68306)  \n",
       "2  22.684625     170000  公司企业  公司企业  公司企业  POINT (113.76334 22.68462)  \n",
       "3  22.671512     170200  公司企业    公司    公司  POINT (113.76378 22.67151)  \n",
       "4  22.659794     170300  公司企业    工厂    工厂  POINT (113.79118 22.65979)  \n",
       "\n",
       "[5 rows x 51 columns]"
      ]
     },
     "execution_count": 3,
     "metadata": {},
     "output_type": "execute_result"
    }
   ],
   "source": [
    "df_work.head()"
   ]
  },
  {
   "cell_type": "code",
   "execution_count": 4,
   "id": "7de55819",
   "metadata": {},
   "outputs": [
    {
     "data": {
      "text/plain": [
       "139535"
      ]
     },
     "execution_count": 4,
     "metadata": {},
     "output_type": "execute_result"
    }
   ],
   "source": [
    "len(df_work)"
   ]
  },
  {
   "cell_type": "code",
   "execution_count": 6,
   "id": "d52dad5d",
   "metadata": {
    "scrolled": false
   },
   "outputs": [
    {
     "data": {
      "text/plain": [
       "<AxesSubplot:>"
      ]
     },
     "execution_count": 6,
     "metadata": {},
     "output_type": "execute_result"
    },
    {
     "data": {
      "image/png": "[encoded data removed]",
      "text/plain": [
       "<Figure size 432x288 with 1 Axes>"
      ]
     },
     "metadata": {
      "needs_background": "light"
     },
     "output_type": "display_data"
    }
   ],
   "source": [
    "df_work.plot()"
   ]
  },
  {
   "cell_type": "code",
   "execution_count": null,
   "id": "9a5bbca8",
   "metadata": {},
   "outputs": [],
   "source": []
  }
 ],
 "metadata": {
  "kernelspec": {
   "display_name": "Python 3",
   "language": "python",
   "name": "python3"
  },
  "language_info": {
   "codemirror_mode": {
    "name": "ipython",
    "version": 3
   },
   "file_extension": ".py",
   "mimetype": "text/x-python",
   "name": "python",
   "nbconvert_exporter": "python",
   "pygments_lexer": "ipython3",
   "version": "3.8.8"
  },
  "toc": {
   "base_numbering": 1,
   "nav_menu": {},
   "number_sections": true,
   "sideBar": true,
   "skip_h1_title": false,
   "title_cell": "Table of Contents",
   "title_sidebar": "Contents",
   "toc_cell": false,
   "toc_position": {},
   "toc_section_display": true,
   "toc_window_display": false
  }
 },
 "nbformat": 4,
 "nbformat_minor": 5
}
