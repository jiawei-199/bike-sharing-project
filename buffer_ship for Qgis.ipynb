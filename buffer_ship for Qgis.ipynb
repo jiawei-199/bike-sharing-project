{
 "cells": [
  {
   "cell_type": "code",
   "execution_count": 1,
   "id": "badf6174",
   "metadata": {
    "ExecuteTime": {
     "end_time": "2023-03-20T10:50:48.411597Z",
     "start_time": "2023-03-20T10:50:47.676749Z"
    }
   },
   "outputs": [],
   "source": [
    "import matplotlib.pyplot as plt\n",
    "import pandas as pd\n",
    "import numpy as np\n",
    "import geopandas as gpd\n",
    "import shapely\n",
    "from shapely.wkt import loads\n",
    "\n"
   ]
  },
  {
   "cell_type": "code",
   "execution_count": 2,
   "id": "ce036c73",
   "metadata": {
    "ExecuteTime": {
     "end_time": "2023-03-20T10:50:48.473252Z",
     "start_time": "2023-03-20T10:50:48.412597Z"
    }
   },
   "outputs": [],
   "source": [
    "rail_station_count =pd.read_csv(r'D:\\bike\\code\\metro\\Preprocessing-bike data\\metro_area.csv').drop(columns = 'Unnamed: 0')\n",
    "\n",
    "geometry = rail_station_count['geometry'].map(shapely.wkt.loads)\n",
    "rail_station_count = rail_station_count.drop('geometry', axis=1)\n",
    "rail_station_count = gpd.GeoDataFrame(rail_station_count, geometry=geometry)\n",
    "rail_station_count = rail_station_count.set_crs(\"EPSG:4326\")\n",
    "\n",
    "rail_station = rail_station_count.to_crs(\"EPSG:32649\")\n",
    "rail_station['buffer'] = rail_station.buffer(1500)\n",
    "\n",
    "rail_station_buffer = gpd.GeoDataFrame(rail_station,geometry = 'buffer')\n",
    "rail_station_buffer = rail_station_buffer.drop(columns = 'index_right')"
   ]
  },
  {
   "cell_type": "code",
   "execution_count": 3,
   "id": "fec03c80",
   "metadata": {
    "ExecuteTime": {
     "end_time": "2023-03-20T10:50:48.488924Z",
     "start_time": "2023-03-20T10:50:48.475277Z"
    }
   },
   "outputs": [],
   "source": [
    "buffer = rail_station_buffer[['stationnam','buffer']]"
   ]
  },
  {
   "cell_type": "code",
   "execution_count": 4,
   "id": "1b9ba894",
   "metadata": {
    "ExecuteTime": {
     "end_time": "2023-03-20T10:50:48.599296Z",
     "start_time": "2023-03-20T10:50:48.490415Z"
    }
   },
   "outputs": [
    {
     "name": "stderr",
     "output_type": "stream",
     "text": [
      "C:\\Users\\jiawe\\anaconda3\\lib\\site-packages\\geopandas\\io\\file.py:362: FutureWarning: pandas.Int64Index is deprecated and will be removed from pandas in a future version. Use pandas.Index with the appropriate dtype instead.\n",
      "  pd.Int64Index,\n"
     ]
    }
   ],
   "source": [
    "buffer.to_file(r\"D:\\bike\\code\\metro\\Preprocessing-bike data\\code\\day_buffer\\buffer\\buffer1500.shp\", encoding='utf-8')"
   ]
  },
  {
   "cell_type": "code",
   "execution_count": null,
   "id": "025700ec",
   "metadata": {},
   "outputs": [],
   "source": []
  }
 ],
 "metadata": {
  "kernelspec": {
   "display_name": "Python 3",
   "language": "python",
   "name": "python3"
  },
  "language_info": {
   "codemirror_mode": {
    "name": "ipython",
    "version": 3
   },
   "file_extension": ".py",
   "mimetype": "text/x-python",
   "name": "python",
   "nbconvert_exporter": "python",
   "pygments_lexer": "ipython3",
   "version": "3.8.8"
  },
  "toc": {
   "base_numbering": 1,
   "nav_menu": {},
   "number_sections": true,
   "sideBar": true,
   "skip_h1_title": false,
   "title_cell": "Table of Contents",
   "title_sidebar": "Contents",
   "toc_cell": false,
   "toc_position": {},
   "toc_section_display": true,
   "toc_window_display": false
  }
 },
 "nbformat": 4,
 "nbformat_minor": 5
}
